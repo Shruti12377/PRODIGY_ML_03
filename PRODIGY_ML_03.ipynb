{
  "nbformat": 4,
  "nbformat_minor": 0,
  "metadata": {
    "colab": {
      "provenance": [],
      "authorship_tag": "ABX9TyPl4CDn+Z5XVgZ7spGnjtJD",
      "include_colab_link": true
    },
    "kernelspec": {
      "name": "python3",
      "display_name": "Python 3"
    },
    "language_info": {
      "name": "python"
    }
  },
  "cells": [
    {
      "cell_type": "markdown",
      "metadata": {
        "id": "view-in-github",
        "colab_type": "text"
      },
      "source": [
        "<a href=\"https://colab.research.google.com/github/Shruti12377/Shruti12377/blob/main/PRODIGY_ML_03.ipynb\" target=\"_parent\"><img src=\"https://colab.research.google.com/assets/colab-badge.svg\" alt=\"Open In Colab\"/></a>"
      ]
    },
    {
      "cell_type": "code",
      "source": [],
      "metadata": {
        "id": "kjQZKDwcqw1j"
      },
      "execution_count": null,
      "outputs": []
    },
    {
      "cell_type": "code",
      "source": [
        "import os\n",
        "import numpy as np\n",
        "import pandas as pd\n",
        "import matplotlib.pyplot as plt\n",
        "from sklearn.model_selection import train_test_split\n",
        "from sklearn.preprocessing import StandardScaler\n",
        "from sklearn.svm import SVC\n",
        "from sklearn.metrics import accuracy_score, classification_report\n",
        "from keras.preprocessing.image import ImageDataGenerator, img_to_array, load_img\n",
        "from sklearn.utils import shuffle\n",
        "\n",
        "# Specify the paths correctly\n",
        "train_dir = 'sample_data/train'\n",
        "# E.g., 'data/train' if your dataset is in 'data/train/cat' and 'data/train/dog'\n",
        "\n",
        "# Check if the directory exists and contains the expected subdirectories\n",
        "print(\"Contents of train_dir:\", os.listdir(train_dir))\n",
        "\n",
        "# Define image size\n",
        "IMG_SIZE = 64\n",
        "\n",
        "# Function to load images from folder\n",
        "def load_images_from_folder(folder, label):\n",
        "    images = []\n",
        "    labels = []\n",
        "    for filename in os.listdir(folder):\n",
        "        img_path = os.path.join(folder, filename)\n",
        "        img = load_img(img_path, target_size=(IMG_SIZE, IMG_SIZE))\n",
        "        img = img_to_array(img)\n",
        "        img = img / 255.0  # Normalize pixel values\n",
        "        images.append(img)\n",
        "        labels.append(label)\n",
        "    return images, labels\n",
        "\n",
        "# Load images\n",
        "cats_images, cats_labels = load_images_from_folder(os.path.join(train_dir, 'cat'), 0)\n",
        "dogs_images, dogs_labels = load_images_from_folder(os.path.join(train_dir, 'dog'), 1)\n",
        "\n",
        "# Combine and shuffle\n",
        "X = np.array(cats_images + dogs_images)\n",
        "y = np.array(cats_labels + dogs_labels)\n",
        "\n",
        "X, y = shuffle(X, y, random_state=42)\n",
        "\n",
        "# Train-test split\n",
        "X_train, X_val, y_train, y_val = train_test_split(X, y, test_size=0.2, random_state=42)\n",
        "\n",
        "# Flatten the images\n",
        "X_train_flatten = X_train.reshape(X_train.shape[0], -1)\n",
        "X_val_flatten = X_val.reshape(X_val.shape[0], -1)\n",
        "\n",
        "# Standardize the data\n",
        "scaler = StandardScaler()\n",
        "X_train_flatten = scaler.fit_transform(X_train_flatten)\n",
        "X_val_flatten = scaler.transform(X_val_flatten)\n",
        "\n",
        "# Train the SVM model\n",
        "svm = SVC(kernel='linear', random_state=42)\n",
        "svm.fit(X_train_flatten, y_train)\n",
        "\n",
        "# Evaluate the model\n",
        "y_pred = svm.predict(X_val_flatten)\n",
        "\n",
        "# Print accuracy and classification report\n",
        "print(f'Accuracy: {accuracy_score(y_val, y_pred)}')\n",
        "print(classification_report(y_val, y_pred, target_names=['Cat', 'Dog']))\n",
        "\n",
        "# Optional: Predict on test data\n",
        "test_dir = 'path/to/test'  # Specify the path to test directory\n",
        "test_images = []\n",
        "test_filenames = []\n",
        "for filename in os.listdir(test_dir):\n",
        "    img_path = os.path.join(test_dir, filename)\n",
        "    img = load_img(img_path, target_size=(IMG_SIZE, IMG_SIZE))\n",
        "    img = img_to_array(img)\n",
        "    img = img / 255.0  # Normalize pixel values\n",
        "    test_images.append(img)\n",
        "    test_filenames.append(filename)\n",
        "\n",
        "X_test = np.array(test_images)\n",
        "X_test_flatten = X_test.reshape(X_test.shape[0], -1)\n",
        "X_test_flatten = scaler.transform(X_test_flatten)\n",
        "\n",
        "# Predict\n",
        "test_predictions = svm.predict(X_test_flatten)\n",
        "\n",
        "# Create a DataFrame for submission\n",
        "submission_df = pd.DataFrame({\n",
        "    'id': [int(filename.split('.')[0]) for filename in test_filenames],\n",
        "    'label': test_predictions\n",
        "})\n",
        "\n",
        "submission_df.to_csv('submission.csv', index=False)\n"
      ],
      "metadata": {
        "colab": {
          "base_uri": "https://localhost:8080/",
          "height": 408
        },
        "id": "UYN0jYqdqw5m",
        "outputId": "83a0b2d0-a08e-4d87-8435-a350367ff283"
      },
      "execution_count": null,
      "outputs": [
        {
          "output_type": "stream",
          "name": "stdout",
          "text": [
            "Contents of train_dir: ['cat.10127.jpg', 'cat.10101.jpg', 'cat.10228.jpg', 'cat.10244.jpg', 'cat.10248.jpg', 'cat.10093.jpg', 'cat.10148.jpg', 'cat.10234.jpg', 'cat.10060.jpg', 'cat.10185.jpg', 'cat.10326.jpg', 'cat.10159.jpg', 'cat.10260.jpg', 'cat.10242.jpg', 'cat.10258.jpg', 'cat.10291.jpg', 'cat.1031.jpg', 'cat.10005.jpg', 'cat.10017.jpg', 'cat.10183.jpg', 'cat.10198.jpg', 'cat.10277.jpg', 'cat.10138.jpg', 'cat.10160.jpg', 'cat.10125.jpg', 'cat.10276.jpg', 'cat.10135.jpg', 'cat.10019.jpg', 'cat.1007.jpg', 'cat.1026.jpg', 'cat.10266.jpg', 'cat.10133.jpg', 'cat.10161.jpg', 'cat.10227.jpg', 'cat.10016.jpg', 'cat.10180.jpg', 'cat.10031.jpg', 'cat.1018.jpg', 'cat.10250.jpg', 'cat.10072.jpg', 'cat.10037.jpg', 'cat.1021.jpg', 'cat.1022.jpg', 'cat.10197.jpg', 'cat.10179.jpg', 'cat.10287.jpg', 'cat.10023.jpg', 'cat.10134.jpg', 'cat.10170.jpg', 'cat.10001.jpg', 'cat.10299.jpg', 'cat.10024.jpg', 'cat.10040.jpg', 'cat.10194.jpg', 'cat.10132.jpg', 'cat.10140.jpg', 'cat.10274.jpg', 'cat.10303.jpg', 'cat.10188.jpg', 'cat.10163.jpg', 'cat.10109.jpg', 'cat.10298.jpg', 'cat.10062.jpg', 'cat.10039.jpg', 'cat.10034.jpg', 'cat.10269.jpg', 'cat.10090.jpg', 'cat.10077.jpg', 'cat.10044.jpg', 'cat.10289.jpg', 'cat.10292.jpg', 'cat.10102.jpg', 'cat.10119.jpg', 'cat.10167.jpg', 'cat.10279.jpg', 'cat.10275.jpg', 'cat.1002.jpg', 'cat.10220.jpg', 'cat.0.jpg', 'cat.10231.jpg', 'cat.10286.jpg', 'cat.10079.jpg', 'cat.10267.jpg', 'cat.10256.jpg', 'cat.10061.jpg', 'cat.10174.jpg', 'cat.10131.jpg', 'cat.10226.jpg', 'cat.1006.jpg', 'cat.10230.jpg', 'cat.10178.jpg', 'cat.10307.jpg', 'cat.10129.jpg', 'cat.10205.jpg', 'cat.10232.jpg', '.ipynb_checkpoints', 'cat.10251.jpg', 'cat.10028.jpg', 'cat.10219.jpg', 'cat.10253.jpg', 'cat.10195.jpg', 'cat.1023.jpg', 'cat.10164.jpg', 'cat.10218.jpg', 'cat.10273.jpg', 'cat.10217.jpg', 'cat.10270.jpg', 'cat.10254.jpg', 'cat.10.jpg', 'cat.10302.jpg', 'cat.10122.jpg', 'cat.1003.jpg', 'cat.10130.jpg', 'cat.10281.jpg', 'cat.1015.jpg', 'cat.10285.jpg', 'cat.10153.jpg', 'cat.10150.jpg', 'cat.10058.jpg', 'cat.10172.jpg', 'cat.1.jpg', 'cat.1008.jpg', 'cat.10223.jpg', 'cat.10007.jpg', 'cat.10168.jpg', 'cat.10262.jpg', 'cat.10089.jpg', 'cat.10097.jpg', 'cat.10215.jpg', 'cat.10151.jpg', 'cat.10173.jpg', 'cat.1009.jpg', 'cat.1019.jpg', 'cat.10042.jpg', 'cat.10225.jpg', 'cat.10054.jpg', 'cat.10136.jpg', 'cat.10050.jpg', 'cat.10249.jpg', 'cat.1016.jpg', 'cat.10113.jpg', 'cat.10055.jpg', 'cat.10015.jpg', 'cat.10306.jpg', 'cat.10154.jpg', 'cat.10094.jpg', 'cat.10261.jpg', 'cat.10214.jpg', 'cat.10095.jpg', 'cat.10247.jpg', 'cat.10166.jpg', 'cat.10296.jpg', 'cat.10295.jpg', 'cat.10053.jpg', 'cat.1017.jpg', 'cat.10128.jpg', 'cat.10323.jpg', 'cat.10064.jpg', 'cat.10096.jpg', 'cat.10092.jpg', 'cat.10252.jpg', 'cat.10074.jpg', 'cat.10222.jpg', 'cat.10100.jpg', 'cat.103.jpg', 'cat.10107.jpg', 'cat.10169.jpg', 'cat.10144.jpg', 'cat.10099.jpg', 'cat.10288.jpg', 'cat.10083.jpg', 'cat.10086.jpg', 'cat.10066.jpg', 'cat.10121.jpg', 'cat.10056.jpg', 'cat.10045.jpg', 'cat.1010.jpg', 'cat.10265.jpg', 'cat.10142.jpg', 'cat.10020.jpg', 'cat.10035.jpg', 'cat.1005.jpg', 'cat.10319.jpg', 'cat.10084.jpg', 'cat.10063.jpg', 'cat.10038.jpg', 'cat.1000.jpg', 'cat.10029.jpg', 'cat.10221.jpg', 'cat.1032.jpg', 'cat.1028.jpg', 'cat.10143.jpg', 'cat.10067.jpg', 'cat.10272.jpg', 'cat.10002.jpg', 'cat.10052.jpg', 'cat.10208.jpg', 'cat.10322.jpg', 'cat.10187.jpg', 'cat.10145.jpg', 'cat.10200.jpg', 'cat.10268.jpg', 'cat.1013.jpg', 'cat.10068.jpg', 'cat.10196.jpg', 'cat.10032.jpg', 'cat.1024.jpg', 'cat.10190.jpg', 'cat.10192.jpg', 'cat.10111.jpg', 'cat.10201.jpg', 'cat.1029.jpg', 'cat.10014.jpg', 'cat.10297.jpg', 'cat.10036.jpg', 'cat.101.jpg', 'cat.10047.jpg', 'cat.10025.jpg', 'cat.10112.jpg', 'cat.10126.jpg', 'cat', 'cat.10237.jpg', 'cat.1014.jpg', 'cat.10085.jpg', 'cat.10181.jpg', 'cat.10059.jpg', 'cat.1004.jpg', 'cat.10049.jpg', 'cat.10051.jpg', 'cat.10199.jpg', 'cat.10186.jpg', 'cat.10211.jpg', 'cat.10206.jpg', 'dog', 'cat.10000.jpg', 'cat.10118.jpg', 'cat.1011.jpg', 'cat.10043.jpg', 'cat.10311.jpg', 'cat.10312.jpg', 'cat.10284.jpg', 'cat.10320.jpg', 'cat.10318.jpg', 'cat.10103.jpg', 'cat.10098.jpg', 'cat.10255.jpg', 'cat.10239.jpg', 'cat.10048.jpg', 'cat.10030.jpg', 'cat.10229.jpg', 'cat.10012.jpg', 'cat.10155.jpg', 'cat.10210.jpg', 'cat.10310.jpg', 'cat.10149.jpg', 'cat.10075.jpg', 'cat.10259.jpg', 'cat.10207.jpg', 'cat.10283.jpg', 'cat.10004.jpg', 'cat.10317.jpg', 'cat.10104.jpg', 'cat.10182.jpg', 'cat.102.jpg', 'cat.10003.jpg', 'cat.10091.jpg', 'cat.10293.jpg', 'cat.10233.jpg', 'cat.10026.jpg', 'cat.10033.jpg', 'cat.10041.jpg', 'cat.10290.jpg', 'cat.10123.jpg', 'cat.1030.jpg', 'cat.10082.jpg', 'cat.10081.jpg', 'cat.10147.jpg', 'cat.10212.jpg', 'cat.10301.jpg', 'cat.10313.jpg', 'cat.10324.jpg', 'cat.10204.jpg', 'cat.10013.jpg', 'cat.10177.jpg', 'cat.10070.jpg', 'cat.10282.jpg', 'cat.10264.jpg', 'cat.10105.jpg', 'cat.10076.jpg', 'cat.10071.jpg', 'cat.10011.jpg', 'cat.10114.jpg', 'cat.10184.jpg', 'cat.10238.jpg', 'cat.10176.jpg', 'cat.10294.jpg', 'cat.10021.jpg', 'cat.10304.jpg', 'cat.10321.jpg', 'cat.10141.jpg', 'cat.10080.jpg', 'cat.10117.jpg', 'cat.10027.jpg', 'cat.10209.jpg', 'cat.10213.jpg', 'cat.1025.jpg', 'cat.10158.jpg', 'cat.10008.jpg', 'cat.10162.jpg', 'cat.10257.jpg', 'cat.1001.jpg', 'cat.10156.jpg', 'cat.10006.jpg', 'cat.10157.jpg', 'cat.10314.jpg', 'cat.10146.jpg', 'cat.10241.jpg', 'cat.10139.jpg', 'cat.1020.jpg', 'cat.10065.jpg', 'cat.10236.jpg', 'cat.10278.jpg', 'cat.10087.jpg', 'cat.10010.jpg', 'cat.10280.jpg', 'cat.10115.jpg', 'cat.1027.jpg', 'cat.10009.jpg', 'cat.10069.jpg', 'cat.10325.jpg', 'cat.10088.jpg', 'cat.10309.jpg', 'cat.10116.jpg', 'cat.10175.jpg', 'cat.10300.jpg', 'cat.10315.jpg', 'cat.10046.jpg', 'cat.10106.jpg', 'cat.10191.jpg', 'cat.10202.jpg', 'cat.10224.jpg', 'cat.100.jpg', 'cat.10235.jpg', 'cat.10245.jpg', 'cat.10018.jpg', 'cat.10108.jpg', 'cat.10316.jpg', 'cat.10137.jpg', 'cat.10193.jpg', 'cat.10078.jpg', 'cat.1012.jpg', 'cat.10152.jpg', 'cat.10189.jpg', 'cat.10271.jpg', 'cat.10022.jpg', 'cat.10240.jpg', 'cat.10246.jpg', 'cat.10073.jpg', 'cat.10110.jpg', 'cat.10243.jpg', 'cat.10203.jpg', 'cat.10305.jpg', 'cat.10165.jpg', 'cat.10120.jpg', 'cat.10057.jpg', 'cat.10171.jpg', 'cat.10263.jpg', 'cat.10308.jpg', 'cat.10216.jpg', 'cat.10124.jpg']\n"
          ]
        },
        {
          "output_type": "error",
          "ename": "UnidentifiedImageError",
          "evalue": "cannot identify image file <_io.BytesIO object at 0x7d1a1222a160>",
          "traceback": [
            "\u001b[0;31m---------------------------------------------------------------------------\u001b[0m",
            "\u001b[0;31mUnidentifiedImageError\u001b[0m                    Traceback (most recent call last)",
            "\u001b[0;32m<ipython-input-16-55412bf7c1e8>\u001b[0m in \u001b[0;36m<cell line: 37>\u001b[0;34m()\u001b[0m\n\u001b[1;32m     35\u001b[0m \u001b[0;31m# Load images\u001b[0m\u001b[0;34m\u001b[0m\u001b[0;34m\u001b[0m\u001b[0m\n\u001b[1;32m     36\u001b[0m \u001b[0mcats_images\u001b[0m\u001b[0;34m,\u001b[0m \u001b[0mcats_labels\u001b[0m \u001b[0;34m=\u001b[0m \u001b[0mload_images_from_folder\u001b[0m\u001b[0;34m(\u001b[0m\u001b[0mos\u001b[0m\u001b[0;34m.\u001b[0m\u001b[0mpath\u001b[0m\u001b[0;34m.\u001b[0m\u001b[0mjoin\u001b[0m\u001b[0;34m(\u001b[0m\u001b[0mtrain_dir\u001b[0m\u001b[0;34m,\u001b[0m \u001b[0;34m'cat'\u001b[0m\u001b[0;34m)\u001b[0m\u001b[0;34m,\u001b[0m \u001b[0;36m0\u001b[0m\u001b[0;34m)\u001b[0m\u001b[0;34m\u001b[0m\u001b[0;34m\u001b[0m\u001b[0m\n\u001b[0;32m---> 37\u001b[0;31m \u001b[0mdogs_images\u001b[0m\u001b[0;34m,\u001b[0m \u001b[0mdogs_labels\u001b[0m \u001b[0;34m=\u001b[0m \u001b[0mload_images_from_folder\u001b[0m\u001b[0;34m(\u001b[0m\u001b[0mos\u001b[0m\u001b[0;34m.\u001b[0m\u001b[0mpath\u001b[0m\u001b[0;34m.\u001b[0m\u001b[0mjoin\u001b[0m\u001b[0;34m(\u001b[0m\u001b[0mtrain_dir\u001b[0m\u001b[0;34m,\u001b[0m \u001b[0;34m'dog'\u001b[0m\u001b[0;34m)\u001b[0m\u001b[0;34m,\u001b[0m \u001b[0;36m1\u001b[0m\u001b[0;34m)\u001b[0m\u001b[0;34m\u001b[0m\u001b[0;34m\u001b[0m\u001b[0m\n\u001b[0m\u001b[1;32m     38\u001b[0m \u001b[0;34m\u001b[0m\u001b[0m\n\u001b[1;32m     39\u001b[0m \u001b[0;31m# Combine and shuffle\u001b[0m\u001b[0;34m\u001b[0m\u001b[0;34m\u001b[0m\u001b[0m\n",
            "\u001b[0;32m<ipython-input-16-55412bf7c1e8>\u001b[0m in \u001b[0;36mload_images_from_folder\u001b[0;34m(folder, label)\u001b[0m\n\u001b[1;32m     26\u001b[0m     \u001b[0;32mfor\u001b[0m \u001b[0mfilename\u001b[0m \u001b[0;32min\u001b[0m \u001b[0mos\u001b[0m\u001b[0;34m.\u001b[0m\u001b[0mlistdir\u001b[0m\u001b[0;34m(\u001b[0m\u001b[0mfolder\u001b[0m\u001b[0;34m)\u001b[0m\u001b[0;34m:\u001b[0m\u001b[0;34m\u001b[0m\u001b[0;34m\u001b[0m\u001b[0m\n\u001b[1;32m     27\u001b[0m         \u001b[0mimg_path\u001b[0m \u001b[0;34m=\u001b[0m \u001b[0mos\u001b[0m\u001b[0;34m.\u001b[0m\u001b[0mpath\u001b[0m\u001b[0;34m.\u001b[0m\u001b[0mjoin\u001b[0m\u001b[0;34m(\u001b[0m\u001b[0mfolder\u001b[0m\u001b[0;34m,\u001b[0m \u001b[0mfilename\u001b[0m\u001b[0;34m)\u001b[0m\u001b[0;34m\u001b[0m\u001b[0;34m\u001b[0m\u001b[0m\n\u001b[0;32m---> 28\u001b[0;31m         \u001b[0mimg\u001b[0m \u001b[0;34m=\u001b[0m \u001b[0mload_img\u001b[0m\u001b[0;34m(\u001b[0m\u001b[0mimg_path\u001b[0m\u001b[0;34m,\u001b[0m \u001b[0mtarget_size\u001b[0m\u001b[0;34m=\u001b[0m\u001b[0;34m(\u001b[0m\u001b[0mIMG_SIZE\u001b[0m\u001b[0;34m,\u001b[0m \u001b[0mIMG_SIZE\u001b[0m\u001b[0;34m)\u001b[0m\u001b[0;34m)\u001b[0m\u001b[0;34m\u001b[0m\u001b[0;34m\u001b[0m\u001b[0m\n\u001b[0m\u001b[1;32m     29\u001b[0m         \u001b[0mimg\u001b[0m \u001b[0;34m=\u001b[0m \u001b[0mimg_to_array\u001b[0m\u001b[0;34m(\u001b[0m\u001b[0mimg\u001b[0m\u001b[0;34m)\u001b[0m\u001b[0;34m\u001b[0m\u001b[0;34m\u001b[0m\u001b[0m\n\u001b[1;32m     30\u001b[0m         \u001b[0mimg\u001b[0m \u001b[0;34m=\u001b[0m \u001b[0mimg\u001b[0m \u001b[0;34m/\u001b[0m \u001b[0;36m255.0\u001b[0m  \u001b[0;31m# Normalize pixel values\u001b[0m\u001b[0;34m\u001b[0m\u001b[0;34m\u001b[0m\u001b[0m\n",
            "\u001b[0;32m/usr/local/lib/python3.10/dist-packages/keras/src/utils/image_utils.py\u001b[0m in \u001b[0;36mload_img\u001b[0;34m(path, grayscale, color_mode, target_size, interpolation, keep_aspect_ratio)\u001b[0m\n\u001b[1;32m    421\u001b[0m             \u001b[0mpath\u001b[0m \u001b[0;34m=\u001b[0m \u001b[0mstr\u001b[0m\u001b[0;34m(\u001b[0m\u001b[0mpath\u001b[0m\u001b[0;34m.\u001b[0m\u001b[0mresolve\u001b[0m\u001b[0;34m(\u001b[0m\u001b[0;34m)\u001b[0m\u001b[0;34m)\u001b[0m\u001b[0;34m\u001b[0m\u001b[0;34m\u001b[0m\u001b[0m\n\u001b[1;32m    422\u001b[0m         \u001b[0;32mwith\u001b[0m \u001b[0mopen\u001b[0m\u001b[0;34m(\u001b[0m\u001b[0mpath\u001b[0m\u001b[0;34m,\u001b[0m \u001b[0;34m\"rb\"\u001b[0m\u001b[0;34m)\u001b[0m \u001b[0;32mas\u001b[0m \u001b[0mf\u001b[0m\u001b[0;34m:\u001b[0m\u001b[0;34m\u001b[0m\u001b[0;34m\u001b[0m\u001b[0m\n\u001b[0;32m--> 423\u001b[0;31m             \u001b[0mimg\u001b[0m \u001b[0;34m=\u001b[0m \u001b[0mpil_image\u001b[0m\u001b[0;34m.\u001b[0m\u001b[0mopen\u001b[0m\u001b[0;34m(\u001b[0m\u001b[0mio\u001b[0m\u001b[0;34m.\u001b[0m\u001b[0mBytesIO\u001b[0m\u001b[0;34m(\u001b[0m\u001b[0mf\u001b[0m\u001b[0;34m.\u001b[0m\u001b[0mread\u001b[0m\u001b[0;34m(\u001b[0m\u001b[0;34m)\u001b[0m\u001b[0;34m)\u001b[0m\u001b[0;34m)\u001b[0m\u001b[0;34m\u001b[0m\u001b[0;34m\u001b[0m\u001b[0m\n\u001b[0m\u001b[1;32m    424\u001b[0m     \u001b[0;32melse\u001b[0m\u001b[0;34m:\u001b[0m\u001b[0;34m\u001b[0m\u001b[0;34m\u001b[0m\u001b[0m\n\u001b[1;32m    425\u001b[0m         raise TypeError(\n",
            "\u001b[0;32m/usr/local/lib/python3.10/dist-packages/PIL/Image.py\u001b[0m in \u001b[0;36mopen\u001b[0;34m(fp, mode, formats)\u001b[0m\n\u001b[1;32m   3281\u001b[0m         \u001b[0mwarnings\u001b[0m\u001b[0;34m.\u001b[0m\u001b[0mwarn\u001b[0m\u001b[0;34m(\u001b[0m\u001b[0mmessage\u001b[0m\u001b[0;34m)\u001b[0m\u001b[0;34m\u001b[0m\u001b[0;34m\u001b[0m\u001b[0m\n\u001b[1;32m   3282\u001b[0m     \u001b[0mmsg\u001b[0m \u001b[0;34m=\u001b[0m \u001b[0;34m\"cannot identify image file %r\"\u001b[0m \u001b[0;34m%\u001b[0m \u001b[0;34m(\u001b[0m\u001b[0mfilename\u001b[0m \u001b[0;32mif\u001b[0m \u001b[0mfilename\u001b[0m \u001b[0;32melse\u001b[0m \u001b[0mfp\u001b[0m\u001b[0;34m)\u001b[0m\u001b[0;34m\u001b[0m\u001b[0;34m\u001b[0m\u001b[0m\n\u001b[0;32m-> 3283\u001b[0;31m     \u001b[0;32mraise\u001b[0m \u001b[0mUnidentifiedImageError\u001b[0m\u001b[0;34m(\u001b[0m\u001b[0mmsg\u001b[0m\u001b[0;34m)\u001b[0m\u001b[0;34m\u001b[0m\u001b[0;34m\u001b[0m\u001b[0m\n\u001b[0m\u001b[1;32m   3284\u001b[0m \u001b[0;34m\u001b[0m\u001b[0m\n\u001b[1;32m   3285\u001b[0m \u001b[0;34m\u001b[0m\u001b[0m\n",
            "\u001b[0;31mUnidentifiedImageError\u001b[0m: cannot identify image file <_io.BytesIO object at 0x7d1a1222a160>"
          ]
        }
      ]
    },
    {
      "cell_type": "code",
      "source": [],
      "metadata": {
        "id": "38_Nt3qbqw8-"
      },
      "execution_count": null,
      "outputs": []
    },
    {
      "cell_type": "code",
      "source": [],
      "metadata": {
        "id": "gaLBiaqTqxCo"
      },
      "execution_count": null,
      "outputs": []
    }
  ]
}